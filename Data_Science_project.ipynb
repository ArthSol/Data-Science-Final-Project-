{
  "nbformat": 4,
  "nbformat_minor": 0,
  "metadata": {
    "colab": {
      "provenance": [],
      "authorship_tag": "ABX9TyNFfjo21oMn5Ki0lrTP1ydz",
      "include_colab_link": true
    },
    "kernelspec": {
      "name": "python3",
      "display_name": "Python 3"
    },
    "language_info": {
      "name": "python"
    }
  },
  "cells": [
    {
      "cell_type": "markdown",
      "metadata": {
        "id": "view-in-github",
        "colab_type": "text"
      },
      "source": [
        "<a href=\"https://colab.research.google.com/github/ArthSol/Data-Science-Final-Project-/blob/main/Data_Science_project.ipynb\" target=\"_parent\"><img src=\"https://colab.research.google.com/assets/colab-badge.svg\" alt=\"Open In Colab\"/></a>"
      ]
    },
    {
      "cell_type": "markdown",
      "source": [
        "# Data Science Final Project"
      ],
      "metadata": {
        "id": "xcLFGQdyGWfs"
      }
    },
    {
      "cell_type": "markdown",
      "source": [
        "\n",
        "This notebook demonstrates various data science concepts and exercises related to markdown and code cells.\n"
      ],
      "metadata": {
        "id": "rAKb8mgLIAvH"
      }
    },
    {
      "cell_type": "markdown",
      "source": [
        "## Data Science Languages\n",
        "- Python\n",
        "- R\n",
        "- SQL\n",
        "- Julia\n",
        "- MATLAB\n"
      ],
      "metadata": {
        "id": "qCqd06I0Is1X"
      }
    },
    {
      "cell_type": "markdown",
      "source": [
        "## Data Science Libraries\n",
        "- Pandas\n",
        "- NumPy\n",
        "- Matplotlib\n",
        "- Scikit-learn\n",
        "- TensorFlow\n"
      ],
      "metadata": {
        "id": "J2V-X9oWJXPX"
      }
    },
    {
      "cell_type": "markdown",
      "source": [
        "## Data Science Tools\n",
        "\n",
        "| Tool       | Type            | Use Case                    |\n",
        "|------------|-----------------|-----------------------------|\n",
        "| Jupyter    | IDE/Notebook    | Interactive coding & testing|\n",
        "| Tableau    | Visualization   | Data visualization          |\n",
        "| GitHub     | Version Control | Code sharing and collaboration|\n",
        "| VS Code    | IDE             | Code development            |\n"
      ],
      "metadata": {
        "id": "fMAz5lM3JkR5"
      }
    },
    {
      "cell_type": "markdown",
      "source": [
        "## Arithmetic Expressions Examples\n",
        "In this section, we will perform basic arithmetic operations such as addition, multiplication, etc.\n"
      ],
      "metadata": {
        "id": "_OIKGsW8KjRa"
      }
    },
    {
      "cell_type": "code",
      "source": [
        "a = 10\n",
        "b = 5\n",
        "\n",
        "result_addition = a + b\n",
        "result_multiplication = a * b\n",
        "\n",
        "result_addition, result_multiplication\n"
      ],
      "metadata": {
        "colab": {
          "base_uri": "https://localhost:8080/"
        },
        "id": "t6hNa7XKGJja",
        "outputId": "b2da817e-4bba-4141-ec72-36e88eb5b08c"
      },
      "execution_count": 4,
      "outputs": [
        {
          "output_type": "execute_result",
          "data": {
            "text/plain": [
              "(15, 50)"
            ]
          },
          "metadata": {},
          "execution_count": 4
        }
      ]
    },
    {
      "cell_type": "code",
      "source": [
        "def convert_minutes_to_hours(minutes):\n",
        "    return minutes / 60\n",
        "\n",
        "convert_minutes_to_hours(120)\n"
      ],
      "metadata": {
        "colab": {
          "base_uri": "https://localhost:8080/"
        },
        "id": "pRh1aZPwLAsB",
        "outputId": "a5e14980-7b81-463d-c34d-628f02db3465"
      },
      "execution_count": 5,
      "outputs": [
        {
          "output_type": "execute_result",
          "data": {
            "text/plain": [
              "2.0"
            ]
          },
          "metadata": {},
          "execution_count": 5
        }
      ]
    },
    {
      "cell_type": "markdown",
      "source": [
        "## Objectives\n",
        "- Learn how to use markdown in Jupyter Notebooks.\n",
        "- Perform basic arithmetic operations in Python.\n",
        "- Convert units (e.g., minutes to hours).\n"
      ],
      "metadata": {
        "id": "2FOXR3ZNMEvL"
      }
    },
    {
      "cell_type": "markdown",
      "source": [
        "## Author\n",
        "Khurram Shahzad"
      ],
      "metadata": {
        "id": "3GN8kdV6MdvO"
      }
    },
    {
      "cell_type": "code",
      "source": [],
      "metadata": {
        "id": "ovqq8gp1MFXJ"
      },
      "execution_count": null,
      "outputs": []
    }
  ]
}